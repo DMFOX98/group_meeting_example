{
 "cells": [
  {
   "cell_type": "code",
   "execution_count": 1,
   "id": "6483c947",
   "metadata": {},
   "outputs": [],
   "source": [
    "first = 'Darius'\n",
    "\n",
    "last  = 'Fox'\n",
    "\n",
    "name = first + last\n"
   ]
  },
  {
   "cell_type": "code",
   "execution_count": 2,
   "id": "2d9ae368",
   "metadata": {},
   "outputs": [
    {
     "data": {
      "text/plain": [
       "'DariusFox'"
      ]
     },
     "execution_count": 2,
     "metadata": {},
     "output_type": "execute_result"
    }
   ],
   "source": [
    "name"
   ]
  }
 ],
 "metadata": {
  "kernelspec": {
   "display_name": "Python 3 (ipykernel)",
   "language": "python",
   "name": "python3"
  },
  "language_info": {
   "codemirror_mode": {
    "name": "ipython",
    "version": 3
   },
   "file_extension": ".py",
   "mimetype": "text/x-python",
   "name": "python",
   "nbconvert_exporter": "python",
   "pygments_lexer": "ipython3",
   "version": "3.10.4"
  }
 },
 "nbformat": 4,
 "nbformat_minor": 5
}
